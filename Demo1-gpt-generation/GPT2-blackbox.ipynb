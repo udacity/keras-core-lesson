{
 "cells": [
  {
   "cell_type": "markdown",
   "id": "164fb637",
   "metadata": {},
   "source": [
    "## GPT2 Black Box"
   ]
  },
  {
   "cell_type": "code",
   "execution_count": 1,
   "id": "50816d11",
   "metadata": {},
   "outputs": [
    {
     "name": "stdout",
     "output_type": "stream",
     "text": [
      "Using PyTorch backend.\n"
     ]
    }
   ],
   "source": [
    "import os\n",
    "# you can try this with \"tensorflow\" too\n",
    "os.environ[\"KERAS_BACKEND\"] = \"torch\" \n",
    "import keras_core as keras\n",
    "import keras_nlp"
   ]
  },
  {
   "cell_type": "code",
   "execution_count": 2,
   "id": "28436adf",
   "metadata": {},
   "outputs": [
    {
     "name": "stderr",
     "output_type": "stream",
     "text": [
      "/Library/Frameworks/Python.framework/Versions/3.10/lib/python3.10/site-packages/keras_core/src/trainers/trainer.py:166: UserWarning: `jit_compile` is not yet enabled for the PyTorch backend. Proceeding with `jit_compile=False`.\n",
      "  warnings.warn(\n"
     ]
    }
   ],
   "source": [
    "gpt = keras_nlp.models.GPT2CausalLM.from_preset(\"gpt2_base_en\")"
   ]
  },
  {
   "cell_type": "markdown",
   "id": "255c8ce0",
   "metadata": {},
   "source": [
    "## Using the GPT2 Black Box"
   ]
  },
  {
   "cell_type": "code",
   "execution_count": 3,
   "id": "f3d78fa7",
   "metadata": {},
   "outputs": [
    {
     "name": "stdout",
     "output_type": "stream",
     "text": [
      "Why did the apple fall from the tree? Because, well, it was a little bit of both:\n",
      "\n",
      "The apple is an apple that\n"
     ]
    }
   ],
   "source": [
    "print(gpt.generate(\"Why did the apple fall from the tree?\", max_length=30))"
   ]
  },
  {
   "cell_type": "code",
   "execution_count": 4,
   "id": "695d9640",
   "metadata": {},
   "outputs": [
    {
     "name": "stdout",
     "output_type": "stream",
     "text": [
      "What is 1 + 1?\n",
      "\n",
      "The number one question that many people ask when asked about\n"
     ]
    }
   ],
   "source": [
    "print(gpt.generate(\"What is 1 + 1?\", max_length=20))"
   ]
  },
  {
   "cell_type": "code",
   "execution_count": null,
   "id": "7eaa0fda",
   "metadata": {},
   "outputs": [],
   "source": []
  }
 ],
 "metadata": {
  "kernelspec": {
   "display_name": "udacity",
   "language": "python",
   "name": "udacity"
  },
  "language_info": {
   "codemirror_mode": {
    "name": "ipython",
    "version": 3
   },
   "file_extension": ".py",
   "mimetype": "text/x-python",
   "name": "python",
   "nbconvert_exporter": "python",
   "pygments_lexer": "ipython3",
   "version": "3.10.8"
  }
 },
 "nbformat": 4,
 "nbformat_minor": 5
}
