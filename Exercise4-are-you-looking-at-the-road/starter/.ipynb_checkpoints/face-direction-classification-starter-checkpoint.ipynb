{
 "cells": [
  {
   "cell_type": "markdown",
   "id": "3f0c0e6b",
   "metadata": {},
   "source": [
    "## Imports\n",
    "- Sets up Keras Core backend to use Torch."
   ]
  },
  {
   "cell_type": "code",
   "execution_count": null,
   "id": "9e810261",
   "metadata": {},
   "outputs": [],
   "source": [
    "import numpy as np\n",
    "import os\n",
    "# need to define backend before importing Keras\n",
    "os.environ[\"KERAS_BACKEND\"] = \"tensorflow\"\n",
    "import keras_core as keras\n",
    "from keras_core import layers\n",
    "from keras_core import ops\n",
    "import shutil\n",
    "from PIL import Image\n",
    "import keras_cv\n",
    "import pandas as pd\n",
    "import seaborn as sns\n",
    "import matplotlib.pyplot as plt"
   ]
  },
  {
   "cell_type": "markdown",
   "id": "66333d3a",
   "metadata": {},
   "source": [
    "## Load Dataset\n",
    "\n",
    "The data is organized under the `./../face-direction-dataset` folder with one subfolder per class (`up`, `straight`, `left` and `right`).\n",
    "```\n",
    "face-direction-dataset\n",
    "├── up\n",
    "│   ├── phoebe_up_happy_open_2.pgm\n",
    "│   ...\n",
    "├── straight\n",
    "│   ├── mitchell_straight_happy_open_4.pgm\n",
    "│   ├── phoebe_straight_neutral_open_4.pgm\n",
    "│   ...\n",
    "├── left\n",
    "│   ├── phoebe_left_angry_sunglasses_2.pgm\n",
    "│   ...\n",
    "├── right\n",
    "│   ├── phoebe_right_sad_sunglasses.pgm\n",
    "│   ...\n",
    "```"
   ]
  },
  {
   "cell_type": "code",
   "execution_count": null,
   "id": "9e9ef36e",
   "metadata": {},
   "outputs": [],
   "source": [
    "train_dataset, validation_dataset = keras.utils.image_dataset_from_directory(\n",
    "    directory='./../face-direction-dataset/',\n",
    "    labels=\"inferred\",\n",
    "    label_mode='categorical',\n",
    "    # NOTE: you can adjust the batch_size to tune the model training process\n",
    "    batch_size=32,\n",
    "    # NOTE: the image size here is fixed because this is the size of the ImageNet images\n",
    "    image_size=(224, 224),\n",
    "    validation_split=0.2,\n",
    "    subset=\"both\",\n",
    "    seed=0\n",
    ")"
   ]
  },
  {
   "cell_type": "markdown",
   "id": "5a682e49",
   "metadata": {},
   "source": [
    "## Visualize Dataset\n",
    "Viewing the images within the dataset"
   ]
  },
  {
   "cell_type": "code",
   "execution_count": null,
   "id": "3c6eac2d",
   "metadata": {},
   "outputs": [],
   "source": [
    "# Plots images in a grid\n",
    "def plot_image_grid(images, grid=3, title=None):\n",
    "    fig, axes = plt.subplots(grid,grid, figsize=(grid*2,grid*2))\n",
    "    for i in range(grid):\n",
    "        for j in range(grid):\n",
    "            if i*grid + j < len(images):\n",
    "                axes[i][j].imshow(images[i*grid + j].astype('uint8'))\n",
    "    if title is not None:\n",
    "        fig.suptitle(title)\n",
    "    plt.tight_layout()\n",
    "    \n",
    "X = np.concatenate([x for x, y in train_dataset], axis=0)\n",
    "plot_image_grid(X, title=\"directions of faces\")"
   ]
  },
  {
   "cell_type": "markdown",
   "id": "5347f49e",
   "metadata": {},
   "source": [
    "## Load Classification Model\n",
    "Load a pre-trained model provided by Keras. Feel free to use any model, we tested this example with the `keras.applications.ResNet50()` model, and you can see how to use it here: https://keras.io/api/applications/resnet/#resnet50-function. "
   ]
  },
  {
   "cell_type": "code",
   "execution_count": null,
   "id": "d7aa93c8",
   "metadata": {},
   "outputs": [],
   "source": [
    "# TODO: load a pre-trained classification model\n",
    "# TODO: remove the last layer of the model so we change change the number of classes\n",
    "resnet = \n",
    "# NOTE: with ResNet50(), there is an option to remove the last layer when loading the pre-trained model"
   ]
  },
  {
   "cell_type": "markdown",
   "id": "59371d1c",
   "metadata": {},
   "source": [
    "## Build Transfer Learning Model\n",
    "Freeze the layers in the pre-trained model by setting the model's or layer's `.trainable` to be `False`, and add a few trainable layers to the end of the model for our training process using the Sequential or Functional API. You can try adding one `Conv2D()` layer, one `Flatten()` layer, and one `Dense()` layer. Remember that the last `Dense()` layer needs to be updated to predict 4 classes."
   ]
  },
  {
   "cell_type": "code",
   "execution_count": null,
   "id": "6ec93a64",
   "metadata": {},
   "outputs": [],
   "source": [
    "# TODO: set the model.trainable to be False"
   ]
  },
  {
   "cell_type": "code",
   "execution_count": null,
   "id": "04064705",
   "metadata": {},
   "outputs": [],
   "source": [
    "# TODO: build the transfer learning model by adding layers to the end of the `resnet` model instantiated above\n",
    "\n",
    "# NOTE: you can use the Sequential or Functional API to define the layers here"
   ]
  },
  {
   "cell_type": "markdown",
   "id": "9da94a2f",
   "metadata": {},
   "source": [
    "## Train Classification Model\n",
    "Define the optimizer and loss to use for the training process with `model.compile()`, and run the training loop on the dataset with `model.fit()`"
   ]
  },
  {
   "cell_type": "code",
   "execution_count": null,
   "id": "b8bde33b",
   "metadata": {},
   "outputs": [],
   "source": [
    "# TODO: Compile the model with model.compile and with the optimizer, loss, and 'accuracy' metrics"
   ]
  },
  {
   "cell_type": "code",
   "execution_count": null,
   "id": "9a55cbda",
   "metadata": {
    "scrolled": false
   },
   "outputs": [],
   "source": [
    "# Should be able to get at least 70% for validation accuracy\n",
    "\n",
    "# TODO: train the model with model.fit and the train/validation dataset\n",
    "# TODO: you will also need to set the number of training epochs\n",
    "history = \n",
    "\n",
    "# NOTE: 1-5 epochs should be suitable for this task based on the learning rate of your optimizer.\n",
    "# NOTE: training could take a while since we are using a large pre-trained model."
   ]
  },
  {
   "cell_type": "code",
   "execution_count": null,
   "id": "78cb4cf6",
   "metadata": {},
   "outputs": [],
   "source": [
    "# Load the training history into a pandas.DataFrame\n",
    "history_df = pd.DataFrame(history.history)\n",
    "history_df.head(3)"
   ]
  },
  {
   "cell_type": "code",
   "execution_count": null,
   "id": "93ddb399",
   "metadata": {},
   "outputs": [],
   "source": [
    "# Helper function to plot accuracy and loss of the run\n",
    "def plot_history(history_df):\n",
    "    fig, axes = plt.subplots(2,1, sharex=True)\n",
    "    sns.lineplot(data=history_df[[\"accuracy\", \"val_accuracy\"]], ax=axes[0]).set(\n",
    "        title=\"accuracy over iterations of training\",\n",
    "        xlabel=\"iterations\",\n",
    "        ylabel=\"accuracy\"\n",
    "    )\n",
    "    sns.lineplot(data=history_df[[\"loss\", \"val_loss\"]], ax=axes[1]).set(\n",
    "        title=\"loss over iterations of training\",\n",
    "        xlabel=\"iterations\",\n",
    "        ylabel=\"loss\"\n",
    "    )\n",
    "    plt.tight_layout()\n",
    "plot_history(history_df)"
   ]
  },
  {
   "cell_type": "markdown",
   "id": "8a1d7f8d",
   "metadata": {},
   "source": [
    "## Analyze the Model\n",
    "Plotting a confusion matrix and visualizing incorrectly classified images"
   ]
  },
  {
   "cell_type": "code",
   "execution_count": null,
   "id": "602d3909",
   "metadata": {},
   "outputs": [],
   "source": [
    "labels = sorted([\"left\", \"right\", \"up\", \"straight\"])"
   ]
  },
  {
   "cell_type": "code",
   "execution_count": null,
   "id": "33f01dc6",
   "metadata": {},
   "outputs": [],
   "source": [
    "# Analyzing the model through a confusion matrix\n",
    "def confusion_matrix(y_true, y_pred):\n",
    "    labels = np.unique(y_true)\n",
    "    matrix = np.zeros((len(labels), len(labels)))\n",
    "    for i, label_true in enumerate(labels):\n",
    "        for j, label_pred in enumerate(labels):\n",
    "            matrix[i][j] = np.count_nonzero((y_true == label_true) & (y_pred == label_pred))\n",
    "    return matrix\n",
    "\n",
    "def get_confusion_matrix(model, dataset):\n",
    "    y_true = np.argmax(np.concatenate([y for x, y in dataset], axis=0), axis=1)\n",
    "    y_pred = np.argmax(model.predict(dataset), axis=1)\n",
    "    confusion_mat = confusion_matrix(y_true, y_pred)\n",
    "    confusion_df = pd.DataFrame(confusion_mat, columns=labels, index=labels)\n",
    "    sns.heatmap(confusion_df, annot=True).set(\n",
    "        title=\"Confusion Matrix\",\n",
    "        xlabel=\"Predictions\",\n",
    "        ylabel=\"Ground Truth\"\n",
    "    )\n",
    "get_confusion_matrix(model, validation_dataset)"
   ]
  },
  {
   "cell_type": "code",
   "execution_count": null,
   "id": "2d2e376e",
   "metadata": {},
   "outputs": [],
   "source": [
    "y_true = np.argmax(np.concatenate([y for x, y in validation_dataset], axis=0), axis=1)\n",
    "X = np.concatenate([x for x, y in validation_dataset], axis=0)\n",
    "y_pred = np.argmax(model.predict(validation_dataset), axis=1)\n",
    "predictions = list(zip(X, y_true, y_pred))"
   ]
  },
  {
   "cell_type": "code",
   "execution_count": null,
   "id": "12cba47b",
   "metadata": {},
   "outputs": [],
   "source": [
    "predictions1 = [image for image, y_true, y_pred in predictions if y_pred == 2]\n",
    "plot_image_grid(predictions1, grid=3, title=\"predicted looking straight\")"
   ]
  },
  {
   "cell_type": "code",
   "execution_count": null,
   "id": "b97b4672",
   "metadata": {},
   "outputs": [],
   "source": [
    "predictions1 = [image for image, y_true, y_pred in predictions if y_pred == 0]\n",
    "plot_image_grid(predictions1, grid=3, title=\"predicted looking left\")"
   ]
  },
  {
   "cell_type": "code",
   "execution_count": null,
   "id": "c82b4d7a",
   "metadata": {},
   "outputs": [],
   "source": []
  }
 ],
 "metadata": {
  "kernelspec": {
   "display_name": "udacity",
   "language": "python",
   "name": "udacity"
  },
  "language_info": {
   "codemirror_mode": {
    "name": "ipython",
    "version": 3
   },
   "file_extension": ".py",
   "mimetype": "text/x-python",
   "name": "python",
   "nbconvert_exporter": "python",
   "pygments_lexer": "ipython3",
   "version": "3.10.8"
  }
 },
 "nbformat": 4,
 "nbformat_minor": 5
}
